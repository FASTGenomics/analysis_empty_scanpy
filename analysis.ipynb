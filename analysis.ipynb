{
 "cells": [
  {
   "cell_type": "markdown",
   "metadata": {},
   "source": [
    "# FASTGenomics Scanpy Analysis"
   ]
  },
  {
   "cell_type": "markdown",
   "metadata": {},
   "source": [
    "<font color=\"red\">You might want to describe your analysis briefly here, if you are planning to share it.</font>"
   ]
  },
  {
   "cell_type": "code",
   "execution_count": null,
   "metadata": {},
   "outputs": [],
   "source": [
    "# Place all your Python imports here.\n",
    "import fgread\n",
    "import scanpy as sc"
   ]
  },
  {
   "cell_type": "code",
   "execution_count": null,
   "metadata": {},
   "outputs": [],
   "source": [
    "# Place all your parameter values here.\n",
    "sc.settings.verbosity = 1             # scanpy verbosity: errors (0), warnings (1), info (2), hints (3)"
   ]
  },
  {
   "cell_type": "markdown",
   "metadata": {},
   "source": [
    "## Raw Data\n",
    "First, the raw dataset(s) will be read into AnnData object(s)."
   ]
  },
  {
   "cell_type": "markdown",
   "metadata": {},
   "source": [
    "<font color=\"red\">You can describe your data here using markdown or delete this text.</font>"
   ]
  },
  {
   "cell_type": "code",
   "execution_count": null,
   "metadata": {},
   "outputs": [],
   "source": [
    "# Load metadata of each dataset\n",
    "\n",
    "dsets = fgread.get_datasets()\n",
    "dsets"
   ]
  },
  {
   "cell_type": "code",
   "execution_count": null,
   "metadata": {},
   "outputs": [],
   "source": [
    "# Read all datasets into a dictionary of AnnData objects\n",
    "adata_dct = fgread.read_datasets() # If you have multiple datasets they will be all loaded into RAM.\n",
    "\n",
    "# You can, for example, iterate over your datasets and print basic information for each\n",
    "for i,adata in adata_dct.items():\n",
    "    print(i, adata)"
   ]
  },
  {
   "cell_type": "code",
   "execution_count": null,
   "metadata": {},
   "outputs": [],
   "source": [
    "# You can also select a single dataset by its ID like below. This will return a single AnnData object and save you some RAM if you don't neet all datasets right away\n",
    "# adata = fgread.read_datasets(dsets[1])"
   ]
  },
  {
   "cell_type": "markdown",
   "metadata": {},
   "source": [
    "## Preprocessing\n",
    "<font color=\"red\">You can describe your preprocessing here or delete this text.</font>\n",
    "\n",
    "If this is your first analysis, you might want to have a look at our tutorials on [Getting Started with FASTGenomics Lab](https://beta.fastgenomics.org/webclient/ui/#/analyses/detail-analysis-42e3571101184ed78856cbd83adfeb7e) oder [How to Load Data in FASTGenomics (Python)](https://beta.fastgenomics.org/webclient/ui/#/analyses/detail-analysis-9975f546d76341ea85a6c5b0870654a1). Also, you can find more examples for analyses with Scanpy in our [Scanpy 3K PBMC Tutorial\n",
    "](https://beta.fastgenomics.org/webclient/ui/#/analyses/detail-analysis-76ec1458b08f493cb1b1417266c7156a) or the analyses on [scVelo](https://beta.fastgenomics.org/webclient/ui/#/analyses/detail-analysis-7385ac7d8d304061ba40b3fa372d4348), [scGen](https://beta.fastgenomics.org/webclient/ui/#/analyses/detail-analysis-933bda444e8b452fad088a9bbbec528a) or [Scanpy Spatial Transcriptomics (Visium)](https://beta.fastgenomics.org/webclient/ui/#/analyses/detail-analysis-529ed2ddd44a443692ad9c68cd6dd843)."
   ]
  }
 ],
 "metadata": {
  "hide_input": false,
  "kernelspec": {
   "display_name": "Python 3",
   "language": "python",
   "name": "python3"
  },
  "language_info": {
   "codemirror_mode": {
    "name": "ipython",
    "version": 3
   },
   "file_extension": ".py",
   "mimetype": "text/x-python",
   "name": "python",
   "nbconvert_exporter": "python",
   "pygments_lexer": "ipython3",
   "version": "3.7.4"
  },
  "toc": {
   "base_numbering": 1,
   "nav_menu": {},
   "number_sections": true,
   "sideBar": true,
   "skip_h1_title": false,
   "title_cell": "Table of Contents",
   "title_sidebar": "Contents",
   "toc_cell": false,
   "toc_position": {},
   "toc_section_display": true,
   "toc_window_display": false
  }
 },
 "nbformat": 4,
 "nbformat_minor": 4
}
